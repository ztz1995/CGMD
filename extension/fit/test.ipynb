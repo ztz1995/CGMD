{
 "cells": [
  {
   "cell_type": "code",
   "execution_count": 1,
   "source": [
    "import sys\n",
    "project_path = \"/home/centos/Projects/CGMD/\"\n",
    "sys.path.append(project_path)\n",
    "from pyMD.ibi import IBI\n",
    "from pyMD import collective_structure_class as csc\n",
    "from pyMD.file_parser import LmpParser\n",
    "import numpy as np"
   ],
   "outputs": [],
   "metadata": {}
  },
  {
   "cell_type": "code",
   "execution_count": 2,
   "source": [
    "def atom3d_gen():\n",
    "    folder_list = [0,1,2,3,5,7,8,9]\n",
    "    rand_num = np.random.randint(0, 1)\n",
    "    fp = \"/home/centos/ztz/model/aa/1blk_50/%d/\" % (folder_list[rand_num])\n",
    "    atom3d = csc.Atom3D()\n",
    "    atom3d.create_from_info(fp + \"struct_info.pkl\", improper=\"ignore\")\n",
    "    aa = csc.AA3D()\n",
    "    aa.get_mass(fp + \"1blk_50.data\")\n",
    "    aa.renew_coordinate(fp + \"1blk_50.lammpstrj\", step=int(15000000))\n",
    "    atom3d.renew_coordinate(aa)\n",
    "    return atom3d"
   ],
   "outputs": [],
   "metadata": {}
  },
  {
   "cell_type": "code",
   "execution_count": 3,
   "source": [
    "a = atom3d_gen()"
   ],
   "outputs": [],
   "metadata": {}
  },
  {
   "cell_type": "code",
   "execution_count": 11,
   "source": [
    "def get_alias(tt):\n",
    "    alias_dict = {\"TO(1)\":\"TO(0)\", \"TO(2)\":\"TO(1)\", \"c1\":\"c3\", \"c3\":\"c1\"}\n",
    "    t0 = tt[0] if tt[0] not in alias_dict else alias_dict[tt[0]]\n",
    "    t1 = tt[1] if tt[1] not in alias_dict else alias_dict[tt[1]]\n",
    "    return tuple(sorted([t0, t1]))\n",
    "\n",
    "import sys\n",
    "project_path = \"/home/centos/Projects/CGMD/\"\n",
    "sys.path.append(project_path)\n",
    "from pyMD import ibi\n",
    "fp1 = \"../../data/20210401_lr=0.05_1blk_50_fg_ex_hard/record/\"\n",
    "r1 = ibi.Record(fp1, restart=True)\n",
    "param1 = r1.get_param(146, 1)\n",
    "\n",
    "fp2 = \"../../data/20200410_lr=0.05_SH6S_fgh/record/\"\n",
    "r2 = ibi.Record(fp2, restart=True)\n",
    "param2 = r2.get_param(136, 1)\n",
    "\n",
    "import matplotlib.pyplot as plt\n",
    "draw_x = ibi.IBI.cal_points[\"non_bond\"]\n",
    "draw_x2= draw_x[:-300]\n",
    "count = 0\n",
    "for k, v in param1[\"non_bond\"].items():\n",
    "    title = \"-\".join(k)\n",
    "    # ax[x][y].plot(draw_x, param0[\"non_bond\"][k])\n",
    "    print(v[-1])\n",
    "    # break\n",
    "    # plt.plot(draw_x, v, \"r\")\n",
    "    # plt.title(title)\n",
    "    # plt.ylim(-10, 10)\n",
    "    # plt.xlim(0, 15)\n",
    "    # al = get_alias(k)\n",
    "    # # if al in param2[\"non_bond\"]:\n",
    "    # #     plt.plot(draw_x2, param2[\"non_bond\"][al][:len(draw_x2)])\n",
    "    # plt.show()\n"
   ],
   "outputs": [
    {
     "output_type": "stream",
     "name": "stdout",
     "text": [
      "1800 1800\n"
     ]
    }
   ],
   "metadata": {}
  },
  {
   "cell_type": "code",
   "execution_count": null,
   "source": [
    "import sys\n",
    "project_path = \"/home/centos/Projects/CGMD/\"\n",
    "sys.path.append(project_path)\n",
    "from pyMD import ibi\n",
    "fp1 = \"../../data/20200410_lr=0.05_SH6S_fgh/record/\"\n",
    "r1 = ibi.Record(fp1, restart=True)\n",
    "param1 = r1.get_param(136, 1)\n",
    "\n",
    "import matplotlib.pyplot as plt\n",
    "draw_x = ibi.IBI.cal_points[\"non_bond\"]\n",
    "count = 0\n",
    "for k, v in param1[\"non_bond\"].items():\n",
    "    title = \"-\".join(k)\n",
    "    # ax[x][y].plot(draw_x, param0[\"non_bond\"][k])\n",
    "    plt.plot(draw_x, v, \"r\")\n",
    "    plt.title(title)\n",
    "    plt.ylim(-10, 10)\n",
    "    plt.xlim(0, 15)\n",
    "    plt.show()\n"
   ],
   "outputs": [],
   "metadata": {}
  },
  {
   "cell_type": "code",
   "execution_count": null,
   "source": [],
   "outputs": [],
   "metadata": {}
  }
 ],
 "metadata": {
  "orig_nbformat": 4,
  "language_info": {
   "name": "python",
   "version": "3.7.3",
   "mimetype": "text/x-python",
   "codemirror_mode": {
    "name": "ipython",
    "version": 3
   },
   "pygments_lexer": "ipython3",
   "nbconvert_exporter": "python",
   "file_extension": ".py"
  },
  "kernelspec": {
   "name": "python3",
   "display_name": "Python 3.7.3 64-bit ('md': conda)"
  },
  "interpreter": {
   "hash": "450d38d377f1d04936e4af91c0487cde5ec8de3448a4eb26cd659d0f4297455d"
  }
 },
 "nbformat": 4,
 "nbformat_minor": 2
}