{
 "cells": [
  {
   "cell_type": "code",
   "execution_count": 1,
   "metadata": {},
   "outputs": [
    {
     "name": "stdout",
     "output_type": "stream",
     "text": [
      "using CGU\n"
     ]
    }
   ],
   "source": [
    "import os, sys\n",
    "sys.path.append(\"/home/centos/CGMD/\")\n",
    "from pyMD import ibi\n",
    "from pyMD import collective_structure_class as csc\n",
    "from pyMD.file_parser import LmpParser"
   ]
  },
  {
   "cell_type": "code",
   "execution_count": 2,
   "metadata": {},
   "outputs": [],
   "source": [
    "fp1 = \"/home/centos/Projects/CGMD/data/20200720_lr=0.05_1blk_50_cg_ex_hard/record/\"\n",
    "r1 = ibi.Record(fp1, restart=True)\n",
    "param1 = r1.get_param(52, 1)\n",
    "\n",
    "blocks = 1\n",
    "pattern = [\"Ph\", \"U\", \"Ph\", \"Me\", \"Ph\", \"U\", \"Ph\"]\n",
    "\n",
    "chains = 400\n",
    "atom3d = csc.Atom3D()\n",
    "atom3d.create_from_pattern(pattern, chains, param=param1, density=1.05)\n",
    "fp = \"/home/centos/ztz/glass_trainsition/hard/dpd/\"\n",
    "os.makedirs(fp, exist_ok=True)\n",
    "LmpParser.create_data_file(atom3d, fp + \"data.%dblk_%d\" % (blocks, chains), q=False, improper=False, dihedral=False)\n"
   ]
  },
  {
   "cell_type": "code",
   "execution_count": 2,
   "metadata": {},
   "outputs": [],
   "source": [
    "fp1 = \"/home/centos/Projects/CGMD/data/20200720_lr=0.05_1blk_50_cg_ex_hard/record/\"\n",
    "r1 = ibi.Record(fp1, restart=True)\n",
    "param1 = r1.get_param(52, 1)\n",
    "\n",
    "blocks = 1\n",
    "pattern = [\"Ph\", \"U\", \"Ph\", \"Me\", \"Ph\", \"U\", \"Ph\"]\n",
    "\n",
    "chains = 4000\n",
    "atom3d = csc.Atom3D()\n",
    "atom3d.create_from_pattern(pattern, chains, param=param1, density=1.05)\n",
    "fp = \"/home/centos/ztz2/H-S/hard/dpd/\"\n",
    "os.makedirs(fp, exist_ok=True)\n",
    "LmpParser.create_data_file(atom3d, fp + \"data.%dblk_%d\" % (blocks, chains), q=False, improper=False, dihedral=False)"
   ]
  },
  {
   "cell_type": "code",
   "execution_count": 2,
   "metadata": {},
   "outputs": [],
   "source": [
    "fp1 = \"/home/centos/Projects/CGMD/data/20200720_lr=0.05_1blk_50_cg_ex_hard/record/\"\n",
    "r1 = ibi.Record(fp1, restart=True)\n",
    "param1 = r1.get_param(52, 1)\n",
    "\n",
    "blocks = 1\n",
    "pattern = [\"Ph\", \"U\", \"Ph\", \"Me\", \"Ph\", \"U\", \"Ph\"]\n",
    "\n",
    "chains = 40000\n",
    "atom3d = csc.Atom3D()\n",
    "atom3d.create_from_pattern(pattern, chains, param=param1, density=1.05)\n",
    "fp = \"/home/centos/ztz2/H-S/hard_40000/dpd/\"\n",
    "os.makedirs(fp, exist_ok=True)\n",
    "LmpParser.create_data_file(atom3d, fp + \"data.hard\", q=False, improper=False, dihedral=False)"
   ]
  },
  {
   "cell_type": "code",
   "execution_count": null,
   "metadata": {},
   "outputs": [],
   "source": []
  }
 ],
 "metadata": {
  "interpreter": {
   "hash": "cef07300179a4dd3b36a97111251c8f463eb5dfce5e6e2f757107309582f149b"
  },
  "kernelspec": {
   "display_name": "Python 3.7.3 64-bit ('md': conda)",
   "name": "python3"
  },
  "language_info": {
   "codemirror_mode": {
    "name": "ipython",
    "version": 3
   },
   "file_extension": ".py",
   "mimetype": "text/x-python",
   "name": "python",
   "nbconvert_exporter": "python",
   "pygments_lexer": "ipython3",
   "version": "3.7.3"
  },
  "orig_nbformat": 4
 },
 "nbformat": 4,
 "nbformat_minor": 2
}
