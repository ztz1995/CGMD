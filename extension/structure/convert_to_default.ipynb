{
 "cells": [
  {
   "cell_type": "code",
   "execution_count": 1,
   "source": [
    "import os, sys\n",
    "sys.path.append(\"/home/centos/CGMD/\")\n",
    "from pyMD.file_parser import LmpParser\n",
    "from pyMD import collective_structure_class as csc"
   ],
   "outputs": [
    {
     "output_type": "stream",
     "name": "stdout",
     "text": [
      "using CGU\n"
     ]
    }
   ],
   "metadata": {}
  },
  {
   "cell_type": "code",
   "execution_count": 3,
   "source": [
    "fp1 = \"/home/centos/ztz/dpd_hybrid_large/dpd_cgu_mc/data.fj_8blk_4000\"\n",
    "cg_atom3d = LmpParser.load_data_file(fp1)\n"
   ],
   "outputs": [
    {
     "output_type": "stream",
     "name": "stdout",
     "text": [
      "['Es', 'Me', 'Ph', 'TO(1)', 'TO(2)', 'c1', 'h1', 'n1', 'o1']\n"
     ]
    }
   ],
   "metadata": {}
  },
  {
   "cell_type": "code",
   "execution_count": 4,
   "source": [
    "for a_id, atom in cg_atom3d.Atoms.items():\n",
    "    if atom.type == \"TO(1)\":\n",
    "        print(a_id)\n",
    "        break"
   ],
   "outputs": [
    {
     "output_type": "stream",
     "name": "stdout",
     "text": [
      "1\n"
     ]
    }
   ],
   "metadata": {}
  },
  {
   "cell_type": "code",
   "execution_count": 5,
   "source": [
    "cg_atom3d.Atoms[1].__dict__"
   ],
   "outputs": [
    {
     "output_type": "execute_result",
     "data": {
      "text/plain": [
       "{'id': 1,\n",
       " 'aa_ids': [],\n",
       " 'coordinate': array([170.81019845, 324.60494608, 152.02889525]),\n",
       " 'mv2_aa': 0,\n",
       " 'mv2_cg': 0,\n",
       " 'type': 'TO(1)',\n",
       " 'image': array([0, 0, 0]),\n",
       " 'Bonds': [1],\n",
       " 'Angles': [1189662],\n",
       " 'Dihedrals': [1251191],\n",
       " 'Impropers': [],\n",
       " 'mole_id': 1,\n",
       " 'charge': 0.0,\n",
       " 'v': array([0., 0., 0.]),\n",
       " 'f': array([0., 0., 0.])}"
      ]
     },
     "metadata": {},
     "execution_count": 5
    }
   ],
   "metadata": {}
  },
  {
   "cell_type": "code",
   "execution_count": 6,
   "source": [
    "cg_atom3d.Atoms[2].__dict__"
   ],
   "outputs": [
    {
     "output_type": "execute_result",
     "data": {
      "text/plain": [
       "{'id': 2,\n",
       " 'aa_ids': [],\n",
       " 'coordinate': array([412.50621203, 376.90702179,   3.3412944 ]),\n",
       " 'mv2_aa': 0,\n",
       " 'mv2_cg': 0,\n",
       " 'type': 'TO(2)',\n",
       " 'image': array([0, 0, 0]),\n",
       " 'Bonds': [1, 2],\n",
       " 'Angles': [602865, 1189662],\n",
       " 'Dihedrals': [578470, 1251191],\n",
       " 'Impropers': [],\n",
       " 'mole_id': 1,\n",
       " 'charge': 0.0,\n",
       " 'v': array([0., 0., 0.]),\n",
       " 'f': array([0., 0., 0.])}"
      ]
     },
     "metadata": {},
     "execution_count": 6
    }
   ],
   "metadata": {}
  },
  {
   "cell_type": "code",
   "execution_count": 7,
   "source": [
    "fp = \"/home/centos/ztz/dpd_hybrid_large/dpd_cgu_cluster/data.8blk_4000\"\n",
    "trj = \"/home/centos/ztz/dpd_hybrid_large/dpd_cgu_cluster/init/trj/init.8blk_4000.lammpstrj.1050000\"\n",
    "cg_atom3d0 = LmpParser.load_data_file(fp)\n",
    "cg_atom3d0.renew_coordinate_file(trj)"
   ],
   "outputs": [
    {
     "output_type": "stream",
     "name": "stdout",
     "text": [
      "['Es', 'Me', 'Ph', 'TO(1)', 'TO(2)', 'c1', 'h1', 'n1', 'o1']\n"
     ]
    },
    {
     "output_type": "execute_result",
     "data": {
      "text/plain": [
       "{}"
      ]
     },
     "metadata": {},
     "execution_count": 7
    }
   ],
   "metadata": {}
  },
  {
   "cell_type": "code",
   "execution_count": 8,
   "source": [
    "cg_atom3d0.Atoms[1].__dict__"
   ],
   "outputs": [
    {
     "output_type": "execute_result",
     "data": {
      "text/plain": [
       "{'id': 1,\n",
       " 'aa_ids': [],\n",
       " 'coordinate': array([ 32300.69593141, 126518.68606218,  98306.21501457]),\n",
       " 'mv2_aa': 0,\n",
       " 'mv2_cg': 0,\n",
       " 'type': 'TO(1)',\n",
       " 'image': array([0, 0, 0]),\n",
       " 'Bonds': [1],\n",
       " 'Angles': [602104],\n",
       " 'Dihedrals': [578249],\n",
       " 'Impropers': [],\n",
       " 'mole_id': 1,\n",
       " 'charge': 0.0,\n",
       " 'v': array([0., 0., 0.]),\n",
       " 'f': array([0., 0., 0.])}"
      ]
     },
     "metadata": {},
     "execution_count": 8
    }
   ],
   "metadata": {}
  },
  {
   "cell_type": "code",
   "execution_count": 9,
   "source": [
    "cg_atom3d0.Atoms[2].__dict__"
   ],
   "outputs": [
    {
     "output_type": "execute_result",
     "data": {
      "text/plain": [
       "{'id': 2,\n",
       " 'aa_ids': [],\n",
       " 'coordinate': array([ 31707.95033069, 127816.27565483,  96486.88021314]),\n",
       " 'mv2_aa': 0,\n",
       " 'mv2_cg': 0,\n",
       " 'type': 'TO(2)',\n",
       " 'image': array([0, 0, 0]),\n",
       " 'Bonds': [1, 2],\n",
       " 'Angles': [602104, 1000501],\n",
       " 'Dihedrals': [578249, 603649],\n",
       " 'Impropers': [],\n",
       " 'mole_id': 1,\n",
       " 'charge': 0.0,\n",
       " 'v': array([0., 0., 0.]),\n",
       " 'f': array([0., 0., 0.])}"
      ]
     },
     "metadata": {},
     "execution_count": 9
    }
   ],
   "metadata": {}
  },
  {
   "cell_type": "code",
   "execution_count": 10,
   "source": [
    "import numpy as np\n",
    "np.array([ 32300.69593141, 126518.68606218,  98306.21501457]) - np.array([ 31707.95033069, 127816.27565483,  96486.88021314])"
   ],
   "outputs": [
    {
     "output_type": "execute_result",
     "data": {
      "text/plain": [
       "array([  592.74560072, -1297.58959265,  1819.33480143])"
      ]
     },
     "metadata": {},
     "execution_count": 10
    }
   ],
   "metadata": {}
  },
  {
   "cell_type": "code",
   "execution_count": 11,
   "source": [
    "cg_atom3d0.lattice_parameter"
   ],
   "outputs": [
    {
     "output_type": "execute_result",
     "data": {
      "text/plain": [
       "array([417.22080715, 415.09583898, 417.66180014])"
      ]
     },
     "metadata": {},
     "execution_count": 11
    }
   ],
   "metadata": {}
  },
  {
   "cell_type": "code",
   "execution_count": null,
   "source": [],
   "outputs": [],
   "metadata": {}
  }
 ],
 "metadata": {
  "orig_nbformat": 4,
  "language_info": {
   "name": "python",
   "version": "3.7.3",
   "mimetype": "text/x-python",
   "codemirror_mode": {
    "name": "ipython",
    "version": 3
   },
   "pygments_lexer": "ipython3",
   "nbconvert_exporter": "python",
   "file_extension": ".py"
  },
  "kernelspec": {
   "name": "python3",
   "display_name": "Python 3.7.3 64-bit ('md': conda)"
  },
  "interpreter": {
   "hash": "450d38d377f1d04936e4af91c0487cde5ec8de3448a4eb26cd659d0f4297455d"
  }
 },
 "nbformat": 4,
 "nbformat_minor": 2
}