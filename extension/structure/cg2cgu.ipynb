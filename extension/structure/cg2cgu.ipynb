{
 "cells": [
  {
   "cell_type": "code",
   "execution_count": 1,
   "metadata": {},
   "outputs": [
    {
     "name": "stdout",
     "output_type": "stream",
     "text": [
      "using CGU\n"
     ]
    }
   ],
   "source": [
    "import os, sys\n",
    "sys.path.append(\"/home/centos/CGMD/\")\n",
    "from pyMD.file_parser import LmpParser\n",
    "from pyMD import collective_structure_class as csc\n",
    "import os\n"
   ]
  },
  {
   "cell_type": "code",
   "execution_count": 5,
   "metadata": {},
   "outputs": [],
   "source": [
    "# fp1 = \"/home/centos/ztz/dynamic_bond/dpd/dpd-harmonic/bond_01_5_angle_5/trj_1/8blk_250.4700000\"\n",
    "# fp1 = \"/home/centos/ztz/dynamic_bond/dpd/dpd-harmonic-d/bond_1_5_angle_5/trj_1/8blk_250.3550000\"\n",
    "# fp1 = \"/home/centos/ztz/dynamic_bond/dpd/dpd-harmonic-d/bond_1_5_angle_5_2.0/trj_1/8blk_250.5000000\"\n",
    "fp1 = \"/home/centos/ztz/dynamic_bond/dpd/dpd-harmonic-d/bond_1_5_angle_5_3.0/trj_1/8blk_250.5000000\"\n",
    "\n",
    "cg_atom3d = LmpParser.load_data_file(fp1, _type=\"dpd\")\n"
   ]
  },
  {
   "cell_type": "code",
   "execution_count": 6,
   "metadata": {},
   "outputs": [
    {
     "data": {
      "text/plain": [
       "dict_keys([('Es', 'Ph'), ('Es', 'TO(2)'), ('Ph', 'U'), ('TO(2)', 'TO(2)'), ('TO(1)', 'TO(2)'), ('Me', 'Ph')])"
      ]
     },
     "execution_count": 6,
     "metadata": {},
     "output_type": "execute_result"
    }
   ],
   "source": [
    "cg_atom3d.delete_bond_type(('U', 'U'))\n",
    "cg_atom3d.Bond_type_dict.keys()"
   ]
  },
  {
   "cell_type": "code",
   "execution_count": 7,
   "metadata": {},
   "outputs": [],
   "source": [
    "cg_atom3d.cg_to_cgu()\n",
    "# fp2 = \"/home/centos/ztz/dynamic_bond/dpd/dpd-harmonic/bond_01_5_angle_5_cgu/\"\n",
    "# fp2 = \"/home/centos/ztz/dynamic_bond/dpd/dpd-harmonic-d/bond_1_5_angle_5_2.0_cgu/\"\n",
    "fp2 = \"/home/centos/ztz/dynamic_bond/dpd/dpd-harmonic-d/bond_1_5_angle_5_3.0_cgu/\"\n",
    "\n",
    "os.makedirs(fp2, exist_ok=True)\n",
    "LmpParser.create_data_file(cg_atom3d, fp2 + \"data.8blk_250\", q=False, improper=True)\n"
   ]
  },
  {
   "cell_type": "code",
   "execution_count": 3,
   "metadata": {},
   "outputs": [
    {
     "name": "stdout",
     "output_type": "stream",
     "text": [
      "['Es', 'Me', 'Ph', 'TO(1)', 'TO(2)', 'U']\n"
     ]
    }
   ],
   "source": [
    "fp1 = \"/home/centos/ztz/dpd_hybrid_large_1/dpd-200/data.8blk_200\"\n",
    "cg_atom3d = LmpParser.load_data_file(fp1, _type=\"dpd\")\n",
    "cg_atom3d.renew_coordinate_file(\"/home/centos/ztz/dpd_hybrid_large_1/dpd-200/trj/300K.lammpstrj.3050000\")\n",
    "cg_atom3d.cg_to_cgu()\n",
    "fp2 = \"/home/centos/ztz/dpd_hybrid_large_1/dpd-200_cgu/\"\n",
    "\n",
    "os.makedirs(fp2, exist_ok=True)\n",
    "LmpParser.create_data_file(cg_atom3d, fp2 + \"data.8blk_200\", q=False, improper=True)\n"
   ]
  },
  {
   "cell_type": "code",
   "execution_count": 2,
   "metadata": {},
   "outputs": [
    {
     "name": "stdout",
     "output_type": "stream",
     "text": [
      "['Me', 'Ph', 'U']\n",
      "using CGU\n"
     ]
    }
   ],
   "source": [
    "fp1 = \"/home/centos/ztz/glass_trainsition/hard/dpd/data.1blk_400\"\n",
    "cg_atom3d = LmpParser.load_data_file(fp1)\n",
    "cg_atom3d.set_type_define(\"cgu\")\n",
    "cg_atom3d.renew_coordinate_file(\"/home/centos/ztz/glass_trainsition/hard/dpd/init/trj/300K.lammpstrj.10400000\")\n",
    "cg_atom3d.cg_to_cgu()\n",
    "fp2 = \"/home/centos/ztz/glass_trainsition/hard/dpd_cgu/\"\n",
    "os.makedirs(fp2, exist_ok=True)\n",
    "LmpParser.create_data_file(cg_atom3d, fp2 + \"data.1blk_400\", q=False, improper=True)"
   ]
  },
  {
   "cell_type": "code",
   "execution_count": 4,
   "metadata": {},
   "outputs": [],
   "source": [
    "from pyMD import ibi\n",
    "fp1 = \"/home/centos/Projects/CGMD/data/20200720_lr=0.05_1blk_50_cg_ex_hard/record/\"\n",
    "r1 = ibi.Record(fp1, restart=True)\n",
    "# param1 = r1.get_param(22, 1)\n",
    "param1 = r1.get_param(52, 1)\n"
   ]
  },
  {
   "cell_type": "code",
   "execution_count": 12,
   "metadata": {},
   "outputs": [
    {
     "name": "stdout",
     "output_type": "stream",
     "text": [
      "('Es', 'Ph', 'U') : 167.00558090123783,\n",
      "('TO(2)', 'TO(2)', 'TO(2)') : 142.39011547133774,\n",
      "('Me', 'Ph', 'U') : 165.2362966691115,\n",
      "('Ph', 'U', 'Ph') : 117.4,\n",
      "('Es', 'TO(2)', 'TO(2)') : 140.30418296698707,\n",
      "('Ph', 'Es', 'TO(2)') : 135.30083401558556,\n",
      "('Ph', 'Me', 'Ph') : 113.23229722955692,\n",
      "('TO(1)', 'TO(2)', 'TO(2)') : 143.15634371267836,\n"
     ]
    }
   ],
   "source": [
    "for k, v in param1['Angle'].items():\n",
    "    print(k, \":\", v[1], end=\",\\n\")"
   ]
  },
  {
   "cell_type": "code",
   "execution_count": 13,
   "metadata": {},
   "outputs": [
    {
     "name": "stdout",
     "output_type": "stream",
     "text": [
      "('TO(1)', 'TO(2)') : 5.102664439275137,\n",
      "('TO(2)', 'TO(2)') : 5.063386042176093,\n",
      "('Es', 'TO(2)') : 5.014718853712776,\n",
      "('Es', 'Ph') : 4.087146700467761,\n",
      "('Ph', 'U') : 3.78888431650782,\n",
      "('Me', 'Ph') : 2.9319192855269125,\n"
     ]
    }
   ],
   "source": [
    "for k, v in param1['Bond'].items():\n",
    "    print(k, \":\", v[1], end=\",\\n\")"
   ]
  },
  {
   "cell_type": "code",
   "execution_count": 3,
   "metadata": {},
   "outputs": [
    {
     "name": "stdout",
     "output_type": "stream",
     "text": [
      "['Es', 'Me', 'Ph', 'TO(1)', 'TO(2)', 'U']\n"
     ]
    }
   ],
   "source": [
    "\n",
    "fp1 = \"/home/centos/ztz/dpd_hybrid_large/dpd/data.8blk_4000\"\n",
    "trj = \"/home/centos/ztz/dpd_hybrid_large/dpd/trj/300K.lammpstrj.1150000\"\n",
    "\n",
    "cg_atom3d = LmpParser.load_data_file(fp1, _type=\"dpd\")\n",
    "cg_atom3d.renew_coordinate_file(trj)\n",
    "cg_atom3d.cg_to_cgu()\n",
    "\n",
    "fp2 = \"/home/centos/ztz/dpd_hybrid_large/dpd_cgu/\"\n",
    "\n",
    "os.makedirs(fp2, exist_ok=True)\n",
    "LmpParser.create_data_file(cg_atom3d, fp2 + \"data.8blk_4000\", q=False, improper=True)"
   ]
  },
  {
   "cell_type": "code",
   "execution_count": 2,
   "metadata": {},
   "outputs": [],
   "source": [
    "import pickle\n",
    "# with open(\"data_4000.pkl\", \"wb\") as file:\n",
    "#     pickle.dump(cg_atom3d, file)\n",
    "with open(\"data_4000.pkl\", \"rb\") as file:\n",
    "    cg_atom3d = pickle.load(file)"
   ]
  },
  {
   "cell_type": "code",
   "execution_count": 4,
   "metadata": {},
   "outputs": [],
   "source": [
    "fp2 = \"/home/centos/ztz/dpd_hybrid_large/dpd_cgu/\"\n",
    "LmpParser.create_data_file(cg_atom3d, fp2 + \"data.8blk_4000\", q=False, improper=True)"
   ]
  },
  {
   "cell_type": "code",
   "execution_count": 5,
   "metadata": {},
   "outputs": [
    {
     "name": "stdout",
     "output_type": "stream",
     "text": [
      "['Me', 'Ph', 'U']\n",
      "using CGU\n"
     ]
    }
   ],
   "source": [
    "fp1 = \"/home/centos/ztz2/H-S/hard/dpd/data.1blk_4000\"\n",
    "trj = \"/home/centos/ztz2/H-S/hard/dpd/init/trj/300K.lammpstrj.3700000\"\n",
    "\n",
    "cg_atom3d = LmpParser.load_data_file(fp1)\n",
    "cg_atom3d.set_type_define(\"cgu\")\n",
    "cg_atom3d.renew_coordinate_file(trj)\n",
    "cg_atom3d.cg_to_cgu()\n",
    "\n",
    "fp2 = \"/home/centos/ztz2/H-S/hard/dpd_cgu/\"\n",
    "\n",
    "os.makedirs(fp2, exist_ok=True)\n",
    "LmpParser.create_data_file(cg_atom3d, fp2 + \"data.1blk_4000\", q=False, improper=True)"
   ]
  },
  {
   "cell_type": "code",
   "execution_count": 2,
   "metadata": {},
   "outputs": [
    {
     "name": "stdout",
     "output_type": "stream",
     "text": [
      "['Es', 'Me', 'Ph', 'TO(1)', 'TO(2)', 'U']\n"
     ]
    }
   ],
   "source": [
    "\n",
    "fp1 = \"/home/centos/ztz/dpd_hybrid_large/dpd_mc_1_cg/data.8blk_4000\"\n",
    "trj = \"/home/centos/ztz/dpd_hybrid_large/dpd_mc_1_cg/trj/300K.lammpstrj.170000\"\n",
    "\n",
    "cg_atom3d = LmpParser.load_data_file(fp1, _type=\"dpd\")\n",
    "cg_atom3d.renew_coordinate_file(trj)\n",
    "cg_atom3d.cg_to_cgu()\n",
    "\n",
    "fp2 = \"/home/centos/ztz/dpd_hybrid_large/dpd_mc_1_dpd_cgu/\"\n",
    "\n",
    "os.makedirs(fp2, exist_ok=True)\n",
    "LmpParser.create_data_file(cg_atom3d, fp2 + \"data.8blk_4000_cgu\", q=False, improper=True)"
   ]
  },
  {
   "cell_type": "code",
   "execution_count": null,
   "metadata": {},
   "outputs": [],
   "source": []
  }
 ],
 "metadata": {
  "interpreter": {
   "hash": "cef07300179a4dd3b36a97111251c8f463eb5dfce5e6e2f757107309582f149b"
  },
  "kernelspec": {
   "display_name": "Python 3.7.3 64-bit ('md': conda)",
   "name": "python3"
  },
  "language_info": {
   "codemirror_mode": {
    "name": "ipython",
    "version": 3
   },
   "file_extension": ".py",
   "mimetype": "text/x-python",
   "name": "python",
   "nbconvert_exporter": "python",
   "pygments_lexer": "ipython3",
   "version": "3.7.3"
  },
  "orig_nbformat": 4
 },
 "nbformat": 4,
 "nbformat_minor": 2
}
