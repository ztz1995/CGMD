{
 "cells": [
  {
   "cell_type": "code",
   "execution_count": 1,
   "metadata": {},
   "outputs": [
    {
     "name": "stdout",
     "output_type": "stream",
     "text": [
      "using CGU\n"
     ]
    }
   ],
   "source": [
    "import os, sys\n",
    "sys.path.append(\"/home/centos/CGMD/\")\n",
    "from pyMD.file_parser import LmpParser\n",
    "from pyMD import collective_structure_class as csc\n",
    "import os\n"
   ]
  },
  {
   "cell_type": "code",
   "execution_count": 4,
   "metadata": {},
   "outputs": [],
   "source": [
    "fp2 = \"/home/centos/ztz/dpd_hybrid_large/dpd_cgu/\"\n",
    "LmpParser.create_data_file(cg_atom3d, fp2 + \"data.8blk_4000\", q=False, improper=True)"
   ]
  },
  {
   "cell_type": "code",
   "execution_count": 5,
   "metadata": {},
   "outputs": [
    {
     "name": "stdout",
     "output_type": "stream",
     "text": [
      "['Me', 'Ph', 'U']\n",
      "using CGU\n"
     ]
    }
   ],
   "source": [
    "fp1 = \"/home/centos/ztz2/H-S/hard/dpd/data.1blk_4000\"\n",
    "trj = \"/home/centos/ztz2/H-S/hard/dpd/init/trj/300K.lammpstrj.3700000\"\n",
    "\n",
    "cg_atom3d = LmpParser.load_data_file(fp1)\n",
    "cg_atom3d.set_type_define(\"cgu\")\n",
    "cg_atom3d.renew_coordinate_file(trj)\n",
    "cg_atom3d.cg_to_cgu()\n",
    "\n",
    "fp2 = \"/home/centos/ztz2/H-S/hard/dpd_cgu/\"\n",
    "\n",
    "os.makedirs(fp2, exist_ok=True)\n",
    "LmpParser.create_data_file(cg_atom3d, fp2 + \"data.1blk_4000\", q=False, improper=True)"
   ]
  },
  {
   "cell_type": "code",
   "execution_count": 2,
   "metadata": {},
   "outputs": [
    {
     "name": "stdout",
     "output_type": "stream",
     "text": [
      "['Es', 'Me', 'Ph', 'TO(1)', 'TO(2)', 'U']\n"
     ]
    },
    {
     "ename": "KeyboardInterrupt",
     "evalue": "",
     "output_type": "error",
     "traceback": [
      "\u001b[0;31m---------------------------------------------------------------------------\u001b[0m",
      "\u001b[0;31mKeyboardInterrupt\u001b[0m                         Traceback (most recent call last)",
      "\u001b[0;32m<ipython-input-2-fc504c6aaa1f>\u001b[0m in \u001b[0;36m<module>\u001b[0;34m\u001b[0m\n\u001b[1;32m      2\u001b[0m \u001b[0mtrj\u001b[0m \u001b[0;34m=\u001b[0m \u001b[0;34m\"/home/centos/ztz/dpd_hybrid_large/dpd_mc_1_cg/trj/300K.lammpstrj.180000\"\u001b[0m\u001b[0;34m\u001b[0m\u001b[0;34m\u001b[0m\u001b[0m\n\u001b[1;32m      3\u001b[0m \u001b[0;34m\u001b[0m\u001b[0m\n\u001b[0;32m----> 4\u001b[0;31m \u001b[0mcg_atom3d\u001b[0m \u001b[0;34m=\u001b[0m \u001b[0mLmpParser\u001b[0m\u001b[0;34m.\u001b[0m\u001b[0mload_data_file\u001b[0m\u001b[0;34m(\u001b[0m\u001b[0mfp1\u001b[0m\u001b[0;34m,\u001b[0m \u001b[0m_type\u001b[0m\u001b[0;34m=\u001b[0m\u001b[0;34m\"dpd\"\u001b[0m\u001b[0;34m)\u001b[0m\u001b[0;34m\u001b[0m\u001b[0;34m\u001b[0m\u001b[0m\n\u001b[0m\u001b[1;32m      5\u001b[0m \u001b[0mcg_atom3d\u001b[0m\u001b[0;34m.\u001b[0m\u001b[0mrenew_coordinate_file\u001b[0m\u001b[0;34m(\u001b[0m\u001b[0mtrj\u001b[0m\u001b[0;34m)\u001b[0m\u001b[0;34m\u001b[0m\u001b[0;34m\u001b[0m\u001b[0m\n\u001b[1;32m      6\u001b[0m \u001b[0mprint\u001b[0m\u001b[0;34m(\u001b[0m\u001b[0;34m\"finish load\"\u001b[0m\u001b[0;34m)\u001b[0m\u001b[0;34m\u001b[0m\u001b[0;34m\u001b[0m\u001b[0m\n",
      "\u001b[0;32m~/CGMD/pyMD/file_parser.py\u001b[0m in \u001b[0;36mload_data_file\u001b[0;34m(file_path, _type, q, map_dict, param_dict)\u001b[0m\n\u001b[1;32m    257\u001b[0m                 \u001b[0;32melse\u001b[0m\u001b[0;34m:\u001b[0m\u001b[0;34m\u001b[0m\u001b[0;34m\u001b[0m\u001b[0m\n\u001b[1;32m    258\u001b[0m                     \u001b[0mco\u001b[0m \u001b[0;34m=\u001b[0m \u001b[0;34m[\u001b[0m\u001b[0mfloat\u001b[0m\u001b[0;34m(\u001b[0m\u001b[0m_\u001b[0m\u001b[0;34m)\u001b[0m \u001b[0;32mfor\u001b[0m \u001b[0m_\u001b[0m \u001b[0;32min\u001b[0m \u001b[0margs\u001b[0m\u001b[0;34m[\u001b[0m\u001b[0;36m3\u001b[0m\u001b[0;34m:\u001b[0m\u001b[0;36m6\u001b[0m\u001b[0;34m]\u001b[0m\u001b[0;34m]\u001b[0m\u001b[0;34m\u001b[0m\u001b[0;34m\u001b[0m\u001b[0m\n\u001b[0;32m--> 259\u001b[0;31m                     \u001b[0matom\u001b[0m \u001b[0;34m=\u001b[0m \u001b[0mbsc\u001b[0m\u001b[0;34m.\u001b[0m\u001b[0mAtom\u001b[0m\u001b[0;34m(\u001b[0m\u001b[0ma_id\u001b[0m\u001b[0;34m,\u001b[0m \u001b[0m_type\u001b[0m\u001b[0;34m=\u001b[0m\u001b[0ma_type\u001b[0m\u001b[0;34m,\u001b[0m \u001b[0m_coordinate\u001b[0m\u001b[0;34m=\u001b[0m\u001b[0mco\u001b[0m\u001b[0;34m,\u001b[0m \u001b[0mmole_id\u001b[0m\u001b[0;34m=\u001b[0m\u001b[0mm_id\u001b[0m\u001b[0;34m)\u001b[0m\u001b[0;34m\u001b[0m\u001b[0;34m\u001b[0m\u001b[0m\n\u001b[0m\u001b[1;32m    260\u001b[0m                 \u001b[0matom3d\u001b[0m\u001b[0;34m.\u001b[0m\u001b[0mappend_element\u001b[0m\u001b[0;34m(\u001b[0m\u001b[0matom\u001b[0m\u001b[0;34m)\u001b[0m\u001b[0;34m\u001b[0m\u001b[0;34m\u001b[0m\u001b[0m\n\u001b[1;32m    261\u001b[0m \u001b[0;34m\u001b[0m\u001b[0m\n",
      "\u001b[0;32m~/CGMD/pyMD/basic_structure_class.py\u001b[0m in \u001b[0;36m__init__\u001b[0;34m(self, _id, _type, _coordinate, _image, aa_ids, mole_id, charge, _mv2_aa, _mv2_cg)\u001b[0m\n\u001b[1;32m      8\u001b[0m         \u001b[0mself\u001b[0m\u001b[0;34m.\u001b[0m\u001b[0mid\u001b[0m \u001b[0;34m=\u001b[0m \u001b[0m_id\u001b[0m\u001b[0;34m\u001b[0m\u001b[0;34m\u001b[0m\u001b[0m\n\u001b[1;32m      9\u001b[0m         \u001b[0mself\u001b[0m\u001b[0;34m.\u001b[0m\u001b[0maa_ids\u001b[0m \u001b[0;34m=\u001b[0m \u001b[0;34m[\u001b[0m\u001b[0;34m]\u001b[0m \u001b[0;32mif\u001b[0m \u001b[0maa_ids\u001b[0m \u001b[0;32mis\u001b[0m \u001b[0;32mNone\u001b[0m \u001b[0;32melse\u001b[0m \u001b[0maa_ids\u001b[0m\u001b[0;34m\u001b[0m\u001b[0;34m\u001b[0m\u001b[0m\n\u001b[0;32m---> 10\u001b[0;31m         \u001b[0mself\u001b[0m\u001b[0;34m.\u001b[0m\u001b[0mcoordinate\u001b[0m \u001b[0;34m=\u001b[0m \u001b[0mnp\u001b[0m\u001b[0;34m.\u001b[0m\u001b[0mzeros\u001b[0m\u001b[0;34m(\u001b[0m\u001b[0;36m3\u001b[0m\u001b[0;34m)\u001b[0m \u001b[0;32mif\u001b[0m \u001b[0m_coordinate\u001b[0m \u001b[0;32mis\u001b[0m \u001b[0;32mNone\u001b[0m \u001b[0;32melse\u001b[0m \u001b[0mnp\u001b[0m\u001b[0;34m.\u001b[0m\u001b[0masarray\u001b[0m\u001b[0;34m(\u001b[0m\u001b[0m_coordinate\u001b[0m\u001b[0;34m,\u001b[0m \u001b[0mdtype\u001b[0m\u001b[0;34m=\u001b[0m\u001b[0mfloat\u001b[0m\u001b[0;34m)\u001b[0m\u001b[0;34m\u001b[0m\u001b[0;34m\u001b[0m\u001b[0m\n\u001b[0m\u001b[1;32m     11\u001b[0m         \u001b[0mself\u001b[0m\u001b[0;34m.\u001b[0m\u001b[0mmv2_aa\u001b[0m \u001b[0;34m=\u001b[0m \u001b[0;36m0\u001b[0m \u001b[0;32mif\u001b[0m \u001b[0m_mv2_aa\u001b[0m \u001b[0;32mis\u001b[0m \u001b[0;32mNone\u001b[0m \u001b[0;32melse\u001b[0m \u001b[0m_mv2_aa\u001b[0m\u001b[0;34m\u001b[0m\u001b[0;34m\u001b[0m\u001b[0m\n\u001b[1;32m     12\u001b[0m         \u001b[0mself\u001b[0m\u001b[0;34m.\u001b[0m\u001b[0mmv2_cg\u001b[0m \u001b[0;34m=\u001b[0m \u001b[0;36m0\u001b[0m \u001b[0;32mif\u001b[0m \u001b[0m_mv2_cg\u001b[0m \u001b[0;32mis\u001b[0m \u001b[0;32mNone\u001b[0m \u001b[0;32melse\u001b[0m \u001b[0m_mv2_cg\u001b[0m\u001b[0;34m\u001b[0m\u001b[0;34m\u001b[0m\u001b[0m\n",
      "\u001b[0;32m~/anaconda3/envs/md/lib/python3.7/site-packages/numpy/core/numeric.py\u001b[0m in \u001b[0;36masarray\u001b[0;34m(a, dtype, order)\u001b[0m\n\u001b[1;32m    536\u001b[0m \u001b[0;34m\u001b[0m\u001b[0m\n\u001b[1;32m    537\u001b[0m     \"\"\"\n\u001b[0;32m--> 538\u001b[0;31m     \u001b[0;32mreturn\u001b[0m \u001b[0marray\u001b[0m\u001b[0;34m(\u001b[0m\u001b[0ma\u001b[0m\u001b[0;34m,\u001b[0m \u001b[0mdtype\u001b[0m\u001b[0;34m,\u001b[0m \u001b[0mcopy\u001b[0m\u001b[0;34m=\u001b[0m\u001b[0;32mFalse\u001b[0m\u001b[0;34m,\u001b[0m \u001b[0morder\u001b[0m\u001b[0;34m=\u001b[0m\u001b[0morder\u001b[0m\u001b[0;34m)\u001b[0m\u001b[0;34m\u001b[0m\u001b[0;34m\u001b[0m\u001b[0m\n\u001b[0m\u001b[1;32m    539\u001b[0m \u001b[0;34m\u001b[0m\u001b[0m\n\u001b[1;32m    540\u001b[0m \u001b[0;34m\u001b[0m\u001b[0m\n",
      "\u001b[0;31mKeyboardInterrupt\u001b[0m: "
     ]
    }
   ],
   "source": [
    "\n",
    "fp1 = \"/home/centos/ztz/dpd_hybrid_large/dpd_mc_1_cg/data.8blk_4000\"\n",
    "trj = \"/home/centos/ztz/dpd_hybrid_large/dpd_mc_1_cg/trj/300K.lammpstrj.180000\"\n",
    "\n",
    "cg_atom3d = LmpParser.load_data_file(fp1, _type=\"dpd\")\n",
    "cg_atom3d.renew_coordinate_file(trj)\n",
    "print(\"finish load\")\n",
    "cg_atom3d.cg_to_cgu()\n",
    "print(\"finish convert\")\n",
    "fp2 = \"/home/centos/ztz/dpd_hybrid_large/dpd_mc_1_dpd_cgu/\"\n",
    "os.makedirs(fp2, exist_ok=True)\n",
    "LmpParser.create_data_file(cg_atom3d, fp2 + \"data.8blk_4000_cgu\", q=False, improper=True)"
   ]
  },
  {
   "cell_type": "code",
   "execution_count": 2,
   "metadata": {},
   "outputs": [
    {
     "name": "stdout",
     "output_type": "stream",
     "text": [
      "['Me', 'Ph', 'U']\n"
     ]
    }
   ],
   "source": [
    "fp1 = \"/home/centos/ztz2/H-S/hard_40000/dpd/data.hard\"\n",
    "trj = \"/home/centos/ztz2/H-S/hard_40000/dpd/trj/300K.lammpstrj.1150000\"\n",
    "\n",
    "cg_atom3d = LmpParser.load_data_file(fp1)\n",
    "cg_atom3d.set_type_define(\"cgu\")\n",
    "cg_atom3d.renew_coordinate_file(trj)\n",
    "cg_atom3d.cg_to_cgu()\n",
    "\n",
    "fp2 = \"/home/centos/ztz2/H-S/hard_40000/dpd_cgu/\"\n",
    "\n",
    "os.makedirs(fp2, exist_ok=True)\n",
    "LmpParser.create_data_file(cg_atom3d, fp2 + \"data.hard\", q=False, improper=True)"
   ]
  },
  {
   "cell_type": "code",
   "execution_count": null,
   "metadata": {},
   "outputs": [],
   "source": []
  }
 ],
 "metadata": {
  "interpreter": {
   "hash": "cef07300179a4dd3b36a97111251c8f463eb5dfce5e6e2f757107309582f149b"
  },
  "kernelspec": {
   "display_name": "Python 3.7.3 64-bit ('md': conda)",
   "name": "python3"
  },
  "language_info": {
   "codemirror_mode": {
    "name": "ipython",
    "version": 3
   },
   "file_extension": ".py",
   "mimetype": "text/x-python",
   "name": "python",
   "nbconvert_exporter": "python",
   "pygments_lexer": "ipython3",
   "version": "3.7.3"
  },
  "orig_nbformat": 4
 },
 "nbformat": 4,
 "nbformat_minor": 2
}
