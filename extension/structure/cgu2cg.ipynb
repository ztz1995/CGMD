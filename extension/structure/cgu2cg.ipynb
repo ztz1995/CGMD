{
 "cells": [
  {
   "cell_type": "code",
   "execution_count": 2,
   "source": [
    "import os, sys\n",
    "sys.path.append(\"/home/centos/CGMD/\")\n",
    "from pyMD.file_parser import LmpParser\n",
    "from pyMD import collective_structure_class as csc\n",
    "import os\n"
   ],
   "outputs": [],
   "metadata": {}
  },
  {
   "cell_type": "code",
   "execution_count": 3,
   "source": [
    "fp1 = \"/home/centos/ztz/dpd_hybrid_large/dpd_cgu_mc_1/data.fj_8blk_4000_rebuild_1\"\n",
    "cgu_atom3d = LmpParser.load_data_file(fp1)\n",
    "cg_atom3d = cgu_atom3d\n",
    "cg_atom3d.cgu_to_cg()\n",
    "# print(cg_atom3d)\n",
    "# cg_atom3d.renew_from_cgu(cgu_atom3d)\n",
    "# print(cg_atom3d)\n",
    "# cg_atom3d.convert_to_default()\n",
    "fp2 = \"/home/centos/ztz/dpd_hybrid_large/dpd_mc_1_cg/\"\n",
    "LmpParser.create_data_file(cg_atom3d, fp2 + \"data.8blk_4000\", q=False, improper=False)"
   ],
   "outputs": [
    {
     "output_type": "stream",
     "name": "stdout",
     "text": [
      "['Es', 'Me', 'Ph', 'TO(1)', 'TO(2)', 'c1', 'h1', 'n1', 'o1']\n"
     ]
    }
   ],
   "metadata": {}
  },
  {
   "cell_type": "code",
   "execution_count": null,
   "source": [],
   "outputs": [],
   "metadata": {}
  }
 ],
 "metadata": {
  "orig_nbformat": 4,
  "language_info": {
   "name": "python",
   "version": "3.7.3",
   "mimetype": "text/x-python",
   "codemirror_mode": {
    "name": "ipython",
    "version": 3
   },
   "pygments_lexer": "ipython3",
   "nbconvert_exporter": "python",
   "file_extension": ".py"
  },
  "kernelspec": {
   "name": "python3",
   "display_name": "Python 3.7.3 64-bit ('md': conda)"
  },
  "interpreter": {
   "hash": "450d38d377f1d04936e4af91c0487cde5ec8de3448a4eb26cd659d0f4297455d"
  }
 },
 "nbformat": 4,
 "nbformat_minor": 2
}