{
 "metadata": {
  "language_info": {
   "codemirror_mode": {
    "name": "ipython",
    "version": 3
   },
   "file_extension": ".py",
   "mimetype": "text/x-python",
   "name": "python",
   "nbconvert_exporter": "python",
   "pygments_lexer": "ipython3",
   "version": "3.7.3"
  },
  "orig_nbformat": 4,
  "kernelspec": {
   "name": "python3",
   "display_name": "Python 3.7.3 64-bit ('md': conda)"
  },
  "interpreter": {
   "hash": "450d38d377f1d04936e4af91c0487cde5ec8de3448a4eb26cd659d0f4297455d"
  }
 },
 "nbformat": 4,
 "nbformat_minor": 2,
 "cells": [
  {
   "cell_type": "code",
   "execution_count": 1,
   "source": [
    "import os, sys\n",
    "sys.path.append(\"/home/centos/CGMD/\")\n",
    "from pyMD.file_parser import LmpParser\n",
    "import os"
   ],
   "outputs": [
    {
     "output_type": "stream",
     "name": "stdout",
     "text": [
      "using CGU\n"
     ]
    }
   ],
   "metadata": {}
  },
  {
   "cell_type": "code",
   "execution_count": 8,
   "source": [
    "# fp1 = \"/home/centos/ztz/dynamic_bond/dpd/dpd-harmonic-d/bond_1_5_angle_5_3.6_cgu/data.8blk_250\"\n",
    "# cg_atom3d = LmpParser.load_data_file(fp1, map_dict={\"Me\":\"c3\"})\n",
    "# cg_atom3d.renew_coordinate_file(\"/home/centos/ztz/dynamic_bond/dpd/dpd-harmonic-d/bond_1_5_angle_5_3.6_cgu/init/trj/init.8blk_250.lammpstrj.740000\")"
   ],
   "outputs": [
    {
     "output_type": "execute_result",
     "data": {
      "text/plain": [
       "{}"
      ]
     },
     "metadata": {},
     "execution_count": 8
    }
   ],
   "metadata": {}
  },
  {
   "cell_type": "code",
   "execution_count": 9,
   "source": [
    "# cg_atom3d.cgu_to_fgh()\n",
    "# fp2 = \"/home/centos/ztz/dynamic_bond/dpd/dpd-harmonic-d/bond_1_5_angle_5_3.6_fgh/\"\n",
    "\n",
    "# os.makedirs(fp2, exist_ok=True)\n",
    "# LmpParser.create_data_file(cg_atom3d, fp2 + \"data.8blk_250\", q=False, improper=True)"
   ],
   "outputs": [],
   "metadata": {}
  },
  {
   "cell_type": "code",
   "execution_count": 2,
   "source": [
    "fp1 = \"/home/centos/ztz/dpd_hybrid_large/dpd-200/data.8blk_200\"\n",
    "cg_atom3d = LmpParser.load_data_file(fp1, _type=\"dpd_fg\")\n",
    "cg_atom3d.renew_coordinate_file(\"/home/centos/ztz/dpd_hybrid_large/dpd-200/trj/300K.lammpstrj.4000000\")"
   ],
   "outputs": [
    {
     "output_type": "stream",
     "name": "stdout",
     "text": [
      "None\n"
     ]
    },
    {
     "output_type": "execute_result",
     "data": {
      "text/plain": [
       "{}"
      ]
     },
     "metadata": {},
     "execution_count": 2
    }
   ],
   "metadata": {}
  },
  {
   "cell_type": "code",
   "execution_count": 8,
   "source": [
    "cg_atom3d.Atoms[2].type"
   ],
   "outputs": [
    {
     "output_type": "execute_result",
     "data": {
      "text/plain": [
       "'5'"
      ]
     },
     "metadata": {},
     "execution_count": 8
    }
   ],
   "metadata": {}
  },
  {
   "cell_type": "code",
   "execution_count": null,
   "source": [
    "cg_atom3d.convert_to_fg(h=True)\n",
    "fp2 = \"/home/centos/ztz/dpd_hybrid_large/dpd-200_fg/\"\n",
    "\n",
    "os.makedirs(fp2, exist_ok=True)\n",
    "LmpParser.create_data_file(cg_atom3d, fp2 + \"data.8blk_200\", q=False, improper=True)"
   ],
   "outputs": [],
   "metadata": {}
  },
  {
   "cell_type": "code",
   "execution_count": 2,
   "source": [
    "fp1 = \"/home/centos/ztz/dpd_hybrid_large/dpd-200/data.8blk_200\"\n",
    "cg_atom3d = LmpParser.load_data_file(fp1, _type=\"dpd_fg_old\")\n",
    "cg_atom3d.renew_coordinate_file(\"/home/centos/ztz/dpd_hybrid_large/dpd-200/trj/300K.lammpstrj.4000000\")"
   ],
   "outputs": [
    {
     "output_type": "stream",
     "name": "stdout",
     "text": [
      "['Es', 'c1', 'Ph', 'TO(1)', 'TO(2)', 'U']\n"
     ]
    },
    {
     "output_type": "execute_result",
     "data": {
      "text/plain": [
       "{}"
      ]
     },
     "metadata": {},
     "execution_count": 2
    }
   ],
   "metadata": {}
  },
  {
   "cell_type": "code",
   "execution_count": 3,
   "source": [
    "cg_atom3d.convert_to_fg(h=True)\n",
    "fp2 = \"/home/centos/ztz/dpd_hybrid_large/dpd-200_fg_old/\"\n",
    "\n",
    "os.makedirs(fp2, exist_ok=True)\n",
    "LmpParser.create_data_file(cg_atom3d, fp2 + \"data.8blk_200\", q=False, improper=True)"
   ],
   "outputs": [
    {
     "output_type": "stream",
     "name": "stdout",
     "text": [
      "1\n",
      "2\n"
     ]
    }
   ],
   "metadata": {}
  },
  {
   "cell_type": "code",
   "execution_count": 4,
   "source": [
    "fp1 = \"/home/centos/ztz/dpd_hybrid_large/dpd-200_fg_old/data.8blk_200\"\n",
    "cg_atom3d = LmpParser.load_data_file(fp1, _type=\"fg_old2new\")\n",
    "cg_atom3d.renew_coordinate_file(\"/home/centos/ztz/dpd_hybrid_large/dpd-200_fg_old/init/trj/init.8blk_200.lammpstrj.225000\")\n",
    "fp2 = \"/home/centos/ztz/dpd_hybrid_large/dpd-200_fg_old/init_new/\"\n",
    "cg_atom3d.convert_to_default(rebuild=True)\n",
    "os.makedirs(fp2, exist_ok=True)\n",
    "LmpParser.create_data_file(cg_atom3d, fp2 + \"data.8blk_200\", q=False, improper=True)"
   ],
   "outputs": [
    {
     "output_type": "stream",
     "name": "stdout",
     "text": [
      "['Es', 'TO(1)', 'TO(2)', 'c3', 'c2', 'c1', 'h1', 'n1', 'o1']\n"
     ]
    }
   ],
   "metadata": {}
  },
  {
   "cell_type": "code",
   "execution_count": 5,
   "source": [
    "fp1 = \"/home/centos/ztz/dpd_hybrid_large/dpd-200_fg_old/data.8blk_200\"\n",
    "cg_atom3d = LmpParser.load_data_file(fp1, _type=\"fg\")\n",
    "cg_atom3d.renew_coordinate_file(\"/home/centos/ztz/dpd_hybrid_large/dpd-200_fg_old/init/trj/init.8blk_200.lammpstrj.225000\")\n",
    "fp2 = \"/home/centos/ztz/dpd_hybrid_large/dpd-200_fg_old/init_new2/\"\n",
    "cg_atom3d.convert_to_default(rebuild=True)\n",
    "os.makedirs(fp2, exist_ok=True)\n",
    "LmpParser.create_data_file(cg_atom3d, fp2 + \"data.8blk_200\", q=False, improper=True)"
   ],
   "outputs": [
    {
     "output_type": "stream",
     "name": "stdout",
     "text": [
      "['Es', 'TO(1)', 'TO(2)', 'c1', 'c2', 'c3', 'h1', 'n1', 'o1']\n"
     ]
    }
   ],
   "metadata": {}
  },
  {
   "cell_type": "code",
   "execution_count": 2,
   "source": [
    "fp1 = \"/home/centos/ztz/dpd_hybrid_large/dpd-200/data.8blk_200\"\n",
    "cg_atom3d = LmpParser.load_data_file(fp1)\n",
    "cg_atom3d.renew_coordinate_file(\"/home/centos/ztz/dpd_hybrid_large/dpd-200/trj/300K.lammpstrj.4000000\")\n",
    "fp2 = \"/home/centos/ztz/dpd_hybrid_large/dpd-200_cgu/\"\n",
    "cg_atom3d.convert_to_default(rebuild=True)\n",
    "cg_atom3d.cg_to_cgu()\n",
    "os.makedirs(fp2, exist_ok=True)\n",
    "LmpParser.create_data_file(cg_atom3d, fp2 + \"data.8blk_200\", q=False, improper=True)"
   ],
   "outputs": [
    {
     "output_type": "stream",
     "name": "stdout",
     "text": [
      "['Es', 'Me', 'Ph', 'TO(1)', 'TO(2)', 'U']\n"
     ]
    }
   ],
   "metadata": {}
  },
  {
   "cell_type": "code",
   "execution_count": null,
   "source": [
    "fp1 = \"/home/centos/ztz/dpd_hybrid_large/dpd-200/data.8blk_200\"\n",
    "\n",
    "cg_atom3d = LmpParser.load_data_file(fp1)\n",
    "cg_atom3d.renew_coordinate_file(\"/home/centos/ztz/dpd_hybrid_large/dpd-200/trj/300K.lammpstrj.4000000\")\n",
    "fp2 = \"/home/centos/ztz/dpd_hybrid_large/dpd-200_cgu/\"\n",
    "cg_atom3d.convert_to_default(rebuild=True)\n",
    "cg_atom3d.cg_to_cgu()\n",
    "os.makedirs(fp2, exist_ok=True)\n",
    "LmpParser.create_data_file(cg_atom3d, fp2 + \"data.8blk_200\", q=False, improper=True)"
   ],
   "outputs": [],
   "metadata": {}
  }
 ]
}